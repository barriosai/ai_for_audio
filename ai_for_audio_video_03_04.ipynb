{
  "nbformat": 4,
  "nbformat_minor": 0,
  "metadata": {
    "colab": {
      "provenance": []
    },
    "kernelspec": {
      "name": "python3",
      "display_name": "Python 3"
    },
    "language_info": {
      "name": "python"
    }
  },
  "cells": [
    {
      "cell_type": "markdown",
      "source": [
        "# What is Regression?\n",
        "\n",
        "Dependent (outputs) Vs Independent (inputs) Variables\n",
        "\n",
        "Inputs (features/independent)\n",
        "Outputs (prediction/dependent of inputs)\n",
        "\n",
        "**Example:**\n",
        "- **Inputs (X1, X2, X3)**: Tempo (BPM), Loudness (dB), Duration (seconds)\n",
        "- **Model**: Regression model\n",
        "- **Output (y)**: Genre (e.g., Jazz, Rock, Classical)\n",
        "\n",
        "**Description:**\n",
        "- $X1, X2, X3$ are features representing the tempo, loudness, and duration of a piece of music.\n",
        "- The model takes these features and predicts the genre of the music.\n",
        "- Here, the independent variables (inputs) are $X1, X2, X3$ and the dependent variable (output) is the predicted genre.\n",
        "\n",
        "### Connecting Dependent and Independent Variables:\n",
        "- **Independent variables (inputs)**: The features you control or measure (e.g., tempo, loudness, duration).\n",
        "- **Dependent variable (output)**: The result or prediction based on the inputs (e.g., genre).\n",
        "\n",
        "**Inputs/Outputs Example:**\n",
        "In: Tempo: 120 BPM, Loudness: -5 dB, Duration: 240 seconds => Model => Out: Genre: Rock\n"
      ],
      "metadata": {
        "id": "wI_ljs5RynRO"
      }
    },
    {
      "cell_type": "code",
      "source": [
        "import tensorflow as tf\n",
        "import numpy as np\n",
        "\n",
        "# Generate synthetic data for a music example\n",
        "# Inputs: Tempo (BPM), Loudness (dB), Duration (seconds)\n",
        "X_train = np.array([\n",
        "    [120, -5, 240],\n",
        "    [130, -3, 180],\n",
        "    [110, -6, 300],\n",
        "    [140, -2, 200],\n",
        "    [100, -8, 360],\n",
        "    [115, -7, 220],\n",
        "    [150, -1, 150],\n",
        "    [105, -9, 320],\n",
        "    [125, -4, 210],\n",
        "    [135, -3, 190]\n",
        "])\n",
        "\n",
        "# Outputs: Genre encoded as integers (e.g., 0: Jazz, 1: Rock, 2: Classical)\n",
        "y_train = np.array([1, 1, 2, 1, 2, 2, 1, 2, 1, 1])\n",
        "\n",
        "# Define the model\n",
        "model = tf.keras.Sequential([\n",
        "    tf.keras.Input(shape=(3,)),  # Input layer with 3 features\n",
        "    # Hidden layers with 100 neurons each and ReLU activation\n",
        "    tf.keras.layers.Dense(100, activation=\"relu\"),\n",
        "    tf.keras.layers.Dense(100, activation=\"relu\"),\n",
        "    tf.keras.layers.Dense(100, activation=\"relu\"),\n",
        "    tf.keras.layers.Dense(1, activation=None)  # Output layer with 1 neuron\n",
        "])\n",
        "\n",
        "# Compile the model\n",
        "model.compile(\n",
        "    loss=tf.keras.losses.mae,  # Mean Absolute Error loss function\n",
        "    optimizer=tf.keras.optimizers.Adam(learning_rate=0.001),  # Adjusted learning rate\n",
        "    metrics=[\"mae\"]  # Mean Absolute Error metric\n",
        ")\n",
        "\n",
        "# Train the model\n",
        "model.fit(X_train, y_train, epochs=200, verbose=1)  # Train the model with training data\n",
        "\n",
        "@tf.function(reduce_retracing=True)\n",
        "def predict_genre(input_data):\n",
        "    return model(input_data)\n",
        "\n",
        "# Example input: Tempo: 120 BPM, Loudness: -5 dB, Duration: 240 seconds\n",
        "example_input = np.array([[120, -5, 240]])\n",
        "predicted_genre = predict_genre(example_input)\n",
        "print(f\"Predicted genre: {int(predicted_genre[0][0])}\")\n"
      ],
      "metadata": {
        "id": "xTDdjA850yIt"
      },
      "execution_count": null,
      "outputs": []
    },
    {
      "cell_type": "markdown",
      "source": [
        "# Understanding Linear Relationships: A Quick Guide for Musicians and Audio Buffs"
      ],
      "metadata": {
        "id": "LYJzmz8pnPLU"
      }
    },
    {
      "cell_type": "code",
      "execution_count": null,
      "metadata": {
        "id": "xDBEe4rJnKe9"
      },
      "outputs": [],
      "source": [
        "# What is the realtionship?\n",
        "\n",
        "X = 0, 1, 2, 3, 4\n",
        "y = -1, 1, 3, 5, 7"
      ]
    },
    {
      "cell_type": "code",
      "source": [
        "X, y"
      ],
      "metadata": {
        "id": "hPCby1ERnZ8J",
        "colab": {
          "base_uri": "https://localhost:8080/"
        },
        "outputId": "eeea99f4-71dd-41e7-9ca4-9e263c0f0fa1"
      },
      "execution_count": null,
      "outputs": [
        {
          "output_type": "execute_result",
          "data": {
            "text/plain": [
              "((0, 1, 2, 3, 4), (-1, 1, 3, 5, 7))"
            ]
          },
          "metadata": {},
          "execution_count": 38
        }
      ]
    },
    {
      "cell_type": "markdown",
      "source": [
        "## Establish the Relationship\n",
        "- **Consistent Increase**: $ y $ goes up by $ 2 $ each time $ X $ increases by $ 1 $ suggests a linear relationship."
      ],
      "metadata": {
        "id": "R2oOvp5rpDfp"
      }
    },
    {
      "cell_type": "markdown",
      "source": [
        "## Formulate the Equation**\n",
        "\n",
        "- **Linear Formula**: $ \\huge y = mx + c $\n",
        "  - **$ m $ (Slope)**: Calculated as the consistent increase in $  \\huge y $ per $ X $ (i.e., 2).\n",
        "  - **$ c $ (Intercept)**: Determined from any given point. Using $ \\huge X = 0 $\n",
        "\n",
        "## Confirm the Formula\n",
        "\n",
        "**Equation**: $ y = 2X - 1 $\n",
        "\n",
        "**Plugging** $ X = 0, 1, 2, 3, 4 $\n",
        "\n",
        "**Into** $ y = 2X - 1 $\n",
        "\n",
        "**Retrieves** $ y = -1, 1, 3, 5, 7 $\n",
        "\n",
        "**NOTE:**\n",
        "> The equation can be written as $ y = 2X + (-1) $, but it's more commonly simplified to $ y = 2X - 1 $. The \"+ (-1)\" is the same as \"- 1\". So, the intercept $ c $ is -1, making the complete equation $ y = 2X - 1 $.\n",
        "\n",
        "\n",
        "\n",
        "\n"
      ],
      "metadata": {
        "id": "0VYlj-_ap_oO"
      }
    },
    {
      "cell_type": "code",
      "source": [
        "y[0]"
      ],
      "metadata": {
        "id": "rbFMpQejuaKR",
        "colab": {
          "base_uri": "https://localhost:8080/"
        },
        "outputId": "27bbe126-6797-4f36-cd69-0b7cbb5efa4f"
      },
      "execution_count": null,
      "outputs": [
        {
          "output_type": "execute_result",
          "data": {
            "text/plain": [
              "-1"
            ]
          },
          "metadata": {},
          "execution_count": 39
        }
      ]
    },
    {
      "cell_type": "code",
      "source": [
        "y[1]"
      ],
      "metadata": {
        "id": "MrHLMdy2ucDx",
        "colab": {
          "base_uri": "https://localhost:8080/"
        },
        "outputId": "04698817-f3ad-407b-9564-fb59ac7daf0c"
      },
      "execution_count": null,
      "outputs": [
        {
          "output_type": "execute_result",
          "data": {
            "text/plain": [
              "3"
            ]
          },
          "metadata": {},
          "execution_count": 41
        }
      ]
    },
    {
      "cell_type": "code",
      "source": [
        "y[1] - y[0]"
      ],
      "metadata": {
        "id": "h4IZmUO6udFq",
        "colab": {
          "base_uri": "https://localhost:8080/"
        },
        "outputId": "c10979d2-e572-4b17-e042-5a71ef40b938"
      },
      "execution_count": null,
      "outputs": [
        {
          "output_type": "execute_result",
          "data": {
            "text/plain": [
              "2"
            ]
          },
          "metadata": {},
          "execution_count": 42
        }
      ]
    },
    {
      "cell_type": "code",
      "source": [
        "# Using the slope (m) and intercept (c) to define the equation y = mx + c\n",
        "\n",
        "# Slope (m)\n",
        "m = (y[1] - y[0]) / (X[1] - X[0])\n",
        "m"
      ],
      "metadata": {
        "id": "dqr7lgOCp_WX",
        "colab": {
          "base_uri": "https://localhost:8080/"
        },
        "outputId": "07a6ab87-34e1-4ce4-f6b3-d1ad2e7e2ed5"
      },
      "execution_count": null,
      "outputs": [
        {
          "output_type": "execute_result",
          "data": {
            "text/plain": [
              "2.0"
            ]
          },
          "metadata": {},
          "execution_count": 43
        }
      ]
    },
    {
      "cell_type": "code",
      "source": [
        "# Intercept (c) using the first data point\n",
        "c = y[0] - m * X[0]  # This should be -1 based on given values\n",
        "c\n"
      ],
      "metadata": {
        "id": "EZoZ-u--tzSq",
        "colab": {
          "base_uri": "https://localhost:8080/"
        },
        "outputId": "d90bcf0b-559a-4a9c-ae6f-c5e0a41c1f7b"
      },
      "execution_count": null,
      "outputs": [
        {
          "output_type": "execute_result",
          "data": {
            "text/plain": [
              "-1.0"
            ]
          },
          "metadata": {},
          "execution_count": 44
        }
      ]
    },
    {
      "cell_type": "code",
      "source": [
        "# Return equation\n",
        "print(f\"Equation: y = {m}X + ({c})\")"
      ],
      "metadata": {
        "id": "oTzIqN-Gt0fG",
        "colab": {
          "base_uri": "https://localhost:8080/"
        },
        "outputId": "1bb3bfb5-6582-4fae-9bd1-4565d129d95a"
      },
      "execution_count": null,
      "outputs": [
        {
          "output_type": "stream",
          "name": "stdout",
          "text": [
            "Equation: y = 2.0X + (-1.0)\n"
          ]
        }
      ]
    },
    {
      "cell_type": "markdown",
      "source": [
        "## Confirm the Formula"
      ],
      "metadata": {
        "id": "nzXH2vzUqBhV"
      }
    },
    {
      "cell_type": "code",
      "source": [
        "# Confirming the formula\n",
        "# Use a derived equation to calculate y for given X values and comparing\n",
        "\n",
        "# Derived equation: y = 2X - 1\n",
        "def calculate_y(x):\n",
        "    return 2 * x - 1\n",
        "\n",
        "# Calculating y values using the equation\n",
        "calculate_y(0)"
      ],
      "metadata": {
        "id": "wyE_jApjqBz0",
        "colab": {
          "base_uri": "https://localhost:8080/"
        },
        "outputId": "84e80a0b-cd59-471d-8e64-f8bdf1c5594f"
      },
      "execution_count": null,
      "outputs": [
        {
          "output_type": "execute_result",
          "data": {
            "text/plain": [
              "-1"
            ]
          },
          "metadata": {},
          "execution_count": 46
        }
      ]
    },
    {
      "cell_type": "code",
      "source": [
        "calculate_y(1)"
      ],
      "metadata": {
        "id": "P1wxhjw0s3BC",
        "colab": {
          "base_uri": "https://localhost:8080/"
        },
        "outputId": "7a34e395-bc46-498d-c2b2-581c332e0228"
      },
      "execution_count": null,
      "outputs": [
        {
          "output_type": "execute_result",
          "data": {
            "text/plain": [
              "1"
            ]
          },
          "metadata": {},
          "execution_count": 47
        }
      ]
    },
    {
      "cell_type": "code",
      "source": [
        "calculate_y(2)"
      ],
      "metadata": {
        "id": "qBKKpLmTt9RL",
        "colab": {
          "base_uri": "https://localhost:8080/"
        },
        "outputId": "f0d5d8f3-2264-4357-9599-ec54ce3442b2"
      },
      "execution_count": null,
      "outputs": [
        {
          "output_type": "execute_result",
          "data": {
            "text/plain": [
              "3"
            ]
          },
          "metadata": {},
          "execution_count": 48
        }
      ]
    },
    {
      "cell_type": "code",
      "source": [
        "calculate_y(3)"
      ],
      "metadata": {
        "id": "KNxFFcyKt-X1",
        "colab": {
          "base_uri": "https://localhost:8080/"
        },
        "outputId": "e333b26e-0218-46cb-ee4c-41464aa2eb16"
      },
      "execution_count": null,
      "outputs": [
        {
          "output_type": "execute_result",
          "data": {
            "text/plain": [
              "5"
            ]
          },
          "metadata": {},
          "execution_count": 49
        }
      ]
    },
    {
      "cell_type": "code",
      "source": [
        "calculate_y(4)"
      ],
      "metadata": {
        "id": "_8DxMQ41uBur",
        "colab": {
          "base_uri": "https://localhost:8080/"
        },
        "outputId": "f6afdfa8-141e-482d-a386-b0e14c460d28"
      },
      "execution_count": null,
      "outputs": [
        {
          "output_type": "execute_result",
          "data": {
            "text/plain": [
              "7"
            ]
          },
          "metadata": {},
          "execution_count": 50
        }
      ]
    },
    {
      "cell_type": "code",
      "source": [],
      "metadata": {
        "id": "AngfFTNVxYAq"
      },
      "execution_count": null,
      "outputs": []
    }
  ]
}