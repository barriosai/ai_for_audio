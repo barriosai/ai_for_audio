{
  "nbformat": 4,
  "nbformat_minor": 0,
  "metadata": {
    "colab": {
      "provenance": []
    },
    "kernelspec": {
      "name": "python3",
      "display_name": "Python 3"
    },
    "language_info": {
      "name": "python"
    }
  },
  "cells": [
    {
      "cell_type": "code",
      "execution_count": null,
      "metadata": {
        "colab": {
          "base_uri": "https://localhost:8080/"
        },
        "id": "7ZrQLO6IIngu",
        "outputId": "07d1b254-31f6-468b-b60b-d9cb50a1bacb"
      },
      "outputs": [
        {
          "output_type": "stream",
          "name": "stdout",
          "text": [
            "Cloning into 'ai_for_audio'...\n",
            "remote: Enumerating objects: 25, done.\u001b[K\n",
            "remote: Counting objects: 100% (25/25), done.\u001b[K\n",
            "remote: Compressing objects: 100% (25/25), done.\u001b[K\n",
            "remote: Total 25 (delta 9), reused 0 (delta 0), pack-reused 0 (from 0)\u001b[K\n",
            "Receiving objects: 100% (25/25), 2.52 MiB | 10.36 MiB/s, done.\n",
            "Resolving deltas: 100% (9/9), done.\n"
          ]
        }
      ],
      "source": [
        "!git clone https://github.com/barriosai/ai_for_audio.git"
      ]
    },
    {
      "cell_type": "code",
      "source": [
        "import os\n",
        "\n",
        "# Navigate to the repository directory\n",
        "os.chdir('ai_for_audio')\n",
        "\n",
        "# List the contents to verify\n",
        "os.listdir()\n"
      ],
      "metadata": {
        "colab": {
          "base_uri": "https://localhost:8080/"
        },
        "id": "Zt9AWNX0oSwK",
        "outputId": "0c60aa8f-71d7-4091-f821-7bd552687517"
      },
      "execution_count": null,
      "outputs": [
        {
          "output_type": "execute_result",
          "data": {
            "text/plain": [
              "['LICENSE',\n",
              " 'ai_for_audio_video_03_04.ipynb',\n",
              " 'ai_for_audio_video_03_05.ipynb',\n",
              " '.gitignore',\n",
              " 'Archive.zip',\n",
              " '[SHARED]_ai_for_aduio_03_07_mnist_image_classifier.ipynb',\n",
              " 'README.md',\n",
              " '[SHARED]_03_06_ai_for_audio_Perceptron_to_MLP.ipynb',\n",
              " '.git']"
            ]
          },
          "metadata": {},
          "execution_count": 2
        }
      ]
    },
    {
      "cell_type": "code",
      "source": [
        "import zipfile\n",
        "\n",
        "with zipfile.ZipFile('Archive.zip', 'r') as zip_ref:\n",
        "    zip_ref.extractall('chords_data')\n"
      ],
      "metadata": {
        "id": "iFw5wIUeojYN"
      },
      "execution_count": null,
      "outputs": []
    },
    {
      "cell_type": "code",
      "source": [
        "os.listdir('chords_data')\n"
      ],
      "metadata": {
        "colab": {
          "base_uri": "https://localhost:8080/"
        },
        "id": "jEwBo0TmIok4",
        "outputId": "08fbe959-2ceb-405f-b105-d99c10d7131e"
      },
      "execution_count": null,
      "outputs": [
        {
          "output_type": "execute_result",
          "data": {
            "text/plain": [
              "['minor_chords', 'major_chords', '__MACOSX']"
            ]
          },
          "metadata": {},
          "execution_count": 4
        }
      ]
    },
    {
      "cell_type": "code",
      "source": [
        "import shutil\n",
        "\n",
        "# Remove the __MACOSX folder if it exists\n",
        "macosx_path = 'chords_data/__MACOSX'\n",
        "if os.path.exists(macosx_path) and os.path.isdir(macosx_path):\n",
        "    shutil.rmtree(macosx_path)\n",
        "\n",
        "# Check the structure again to confirm deletion\n",
        "os.listdir('chords_data')\n"
      ],
      "metadata": {
        "colab": {
          "base_uri": "https://localhost:8080/"
        },
        "id": "bQKF9M9HI1fF",
        "outputId": "2790f99a-32ac-4664-c3e1-354563ba682b"
      },
      "execution_count": null,
      "outputs": [
        {
          "output_type": "execute_result",
          "data": {
            "text/plain": [
              "['minor_chords', 'major_chords']"
            ]
          },
          "metadata": {},
          "execution_count": 5
        }
      ]
    },
    {
      "cell_type": "code",
      "source": [
        "import os\n",
        "\n",
        "# Path to the major_chords and minor_chords directories\n",
        "folders = ['chords_data/major_chords', 'chords_data/minor_chords']\n",
        "\n",
        "# Remove any files that start with '._'\n",
        "for folder in folders:\n",
        "    for file_name in os.listdir(folder):\n",
        "        if file_name.startswith('._'):\n",
        "            file_path = os.path.join(folder, file_name)\n",
        "            os.remove(file_path)\n",
        "            print(f\"Removed {file_path}\")\n"
      ],
      "metadata": {
        "colab": {
          "base_uri": "https://localhost:8080/"
        },
        "id": "fRF0bKiLLGft",
        "outputId": "b888a93e-ad38-4956-c19e-db609f24e2a5"
      },
      "execution_count": null,
      "outputs": [
        {
          "output_type": "stream",
          "name": "stdout",
          "text": [
            "Removed chords_data/major_chords/._5_major_chord.wav\n",
            "Removed chords_data/major_chords/._4_major_chord.wav\n",
            "Removed chords_data/major_chords/._2_major_chord.wav\n",
            "Removed chords_data/major_chords/._1_major_chord.wav\n",
            "Removed chords_data/major_chords/._3_major_chord.wav\n",
            "Removed chords_data/minor_chords/._4_minor_chord.wav\n",
            "Removed chords_data/minor_chords/._2_minor_chord.wav\n",
            "Removed chords_data/minor_chords/._3_minor_chord.wav\n",
            "Removed chords_data/minor_chords/._5_minor_chord.wav\n",
            "Removed chords_data/minor_chords/._1_minor_chord.wav\n"
          ]
        }
      ]
    },
    {
      "cell_type": "code",
      "source": [
        "import librosa\n",
        "import librosa.display\n",
        "import matplotlib.pyplot as plt\n",
        "import numpy as np\n",
        "import os\n",
        "\n",
        "# Function to generate spectrograms\n",
        "def generate_spectrogram(file_path, output_path):\n",
        "    y, sr = librosa.load(file_path, duration=3)\n",
        "    S = librosa.feature.melspectrogram(y=y, sr=sr)\n",
        "    S_dB = librosa.power_to_db(S, ref=np.max)\n",
        "\n",
        "    plt.figure(figsize=(10, 4))\n",
        "    librosa.display.specshow(S_dB, sr=sr, x_axis='time', y_axis='mel')\n",
        "    plt.colorbar(format='%+2.0f dB')\n",
        "    plt.title('Mel-frequency spectrogram')\n",
        "    plt.tight_layout()\n",
        "    plt.savefig(output_path)\n",
        "    plt.close()\n",
        "\n",
        "# Loop through both major and minor chord directories\n",
        "for chord_type in ['major_chords', 'minor_chords']:\n",
        "    folder_path = f'chords_data/{chord_type}'\n",
        "    output_folder = f'chords_data/spectrograms/{chord_type}'\n",
        "    os.makedirs(output_folder, exist_ok=True)\n",
        "\n",
        "    for file_name in os.listdir(folder_path):\n",
        "        if file_name.endswith('.wav'):\n",
        "            file_path = os.path.join(folder_path, file_name)\n",
        "            output_path = os.path.join(output_folder, file_name.replace('.wav', '.png'))\n",
        "            generate_spectrogram(file_path, output_path)\n"
      ],
      "metadata": {
        "id": "jmNLDPpdKulG"
      },
      "execution_count": null,
      "outputs": []
    },
    {
      "cell_type": "code",
      "source": [
        "# Check the generated spectrograms\n",
        "os.listdir('chords_data/spectrograms/major_chords')"
      ],
      "metadata": {
        "colab": {
          "base_uri": "https://localhost:8080/"
        },
        "id": "QaDLvioKK3AX",
        "outputId": "deb6ccbb-7aa4-4633-b00f-5dddb189df76"
      },
      "execution_count": null,
      "outputs": [
        {
          "output_type": "execute_result",
          "data": {
            "text/plain": [
              "['4_major_chord.png',\n",
              " '2_major_chord.png',\n",
              " '5_major_chord.png',\n",
              " '1_major_chord.png',\n",
              " '3_major_chord.png']"
            ]
          },
          "metadata": {},
          "execution_count": 8
        }
      ]
    },
    {
      "cell_type": "code",
      "source": [
        "os.listdir('chords_data/spectrograms/minor_chords')"
      ],
      "metadata": {
        "colab": {
          "base_uri": "https://localhost:8080/"
        },
        "id": "nl8ELav1LPm1",
        "outputId": "539f97d9-2691-4683-f9e2-d4e305bd46ac"
      },
      "execution_count": null,
      "outputs": [
        {
          "output_type": "execute_result",
          "data": {
            "text/plain": [
              "['5_minor_chord.png',\n",
              " '3_minor_chord.png',\n",
              " '1_minor_chord.png',\n",
              " '4_minor_chord.png',\n",
              " '2_minor_chord.png']"
            ]
          },
          "metadata": {},
          "execution_count": 9
        }
      ]
    },
    {
      "cell_type": "code",
      "source": [
        "from tensorflow.keras.preprocessing.image import ImageDataGenerator\n",
        "\n",
        "# Set up ImageDataGenerator\n",
        "# add code\n"
      ],
      "metadata": {
        "id": "ybdCbB-KLRul"
      },
      "execution_count": null,
      "outputs": []
    },
    {
      "cell_type": "code",
      "source": [
        "import tensorflow as tf\n",
        "from tensorflow.keras.models import Sequential\n",
        "from tensorflow.keras.layers import Input, Conv2D, MaxPooling2D, Flatten, Dense, Dropout\n",
        "\n",
        "# Build the model\n",
        "model = # add code\n",
        "\n",
        "# Compile the model\n",
        "model. # add code\n",
        "\n",
        "# Train the model\n",
        "model.# add code\n"
      ],
      "metadata": {
        "id": "EgQ5E4QFLYlr"
      },
      "execution_count": null,
      "outputs": []
    },
    {
      "cell_type": "code",
      "source": [],
      "metadata": {
        "id": "BCNPLV8ZBAFu"
      },
      "execution_count": null,
      "outputs": []
    }
  ]
}